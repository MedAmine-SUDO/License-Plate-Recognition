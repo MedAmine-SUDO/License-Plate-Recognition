{
  "nbformat": 4,
  "nbformat_minor": 0,
  "metadata": {
    "colab": {
      "name": "Main.ipynb",
      "provenance": [],
      "mount_file_id": "1wRbR1IbuaZCnwZH0Kns09O_2iPdTR1P0",
      "authorship_tag": "ABX9TyM7c+beJFhuuXx0//TuL9lS",
      "include_colab_link": true
    },
    "kernelspec": {
      "name": "python3",
      "display_name": "Python 3"
    }
  },
  "cells": [
    {
      "cell_type": "markdown",
      "metadata": {
        "id": "view-in-github",
        "colab_type": "text"
      },
      "source": [
        "<a href=\"https://colab.research.google.com/github/MedAmine-SUDO/Tunisian-License-Plate-Recognition/blob/master/Main.ipynb\" target=\"_parent\"><img src=\"https://colab.research.google.com/assets/colab-badge.svg\" alt=\"Open In Colab\"/></a>"
      ]
    },
    {
      "cell_type": "markdown",
      "metadata": {
        "id": "Sj5J7ecjMGGb",
        "colab_type": "text"
      },
      "source": [
        "In case you got an error \"Mask RCNN is not installed\" you have to change directory to Mask_RCNN folder and run these commands:\n",
        "\n",
        "1.   !pip install -r requirements.txt\n",
        "2.   !python setup.py install\n",
        "\n"
      ]
    },
    {
      "cell_type": "code",
      "metadata": {
        "id": "KCCBNI8wLRED",
        "colab_type": "code",
        "colab": {}
      },
      "source": [
        "from os import listdir\n",
        "import numpy as np\n",
        "from numpy import expand_dims\n",
        "from mrcnn.config import Config\n",
        "from mrcnn.model import MaskRCNN\n",
        "from mrcnn.model import mold_image\n",
        "from matplotlib import pyplot\n",
        "from matplotlib.patches import Rectangle\n",
        "from PIL import Image\n",
        "import cv2\n",
        "import math\n",
        "from scipy import ndimage\n",
        "from keras.models import load_model"
      ],
      "execution_count": 0,
      "outputs": []
    },
    {
      "cell_type": "code",
      "metadata": {
        "id": "ZresEF0QNBde",
        "colab_type": "code",
        "colab": {}
      },
      "source": [
        "#Ensure that you are in the project directory\n",
        "SUBMISSION_IMAGES = \"./SubmissionImages/\""
      ],
      "execution_count": 0,
      "outputs": []
    },
    {
      "cell_type": "code",
      "metadata": {
        "id": "E30XS85_Eihz",
        "colab_type": "code",
        "colab": {}
      },
      "source": [
        "# define a configuration for the model\n",
        "class LicensePlateConfig(Config):\n",
        "\t# define the name of the configuration\n",
        "\tNAME = \"LicensePlate_cfg\"\n",
        "\t# number of classes (background + License Plate)\n",
        "\tNUM_CLASSES = 1 + 1\n",
        "\t# number of training steps per epoch\n",
        "\tSTEPS_PER_EPOCH = 131\n",
        "\t# simplify GPU config\n",
        "\tGPU_COUNT = 1\n",
        "\tIMAGES_PER_GPU = 1"
      ],
      "execution_count": 0,
      "outputs": []
    },
    {
      "cell_type": "code",
      "metadata": {
        "id": "GzqQImTmNYcc",
        "colab_type": "code",
        "colab": {}
      },
      "source": [
        "# prepare config\n",
        "config = LicensePlateConfig()"
      ],
      "execution_count": 0,
      "outputs": []
    },
    {
      "cell_type": "code",
      "metadata": {
        "id": "5A5Of07vNaMe",
        "colab_type": "code",
        "colab": {}
      },
      "source": [
        "# define the model\n",
        "model = MaskRCNN(mode='inference', model_dir='./', config=config)"
      ],
      "execution_count": 0,
      "outputs": []
    },
    {
      "cell_type": "code",
      "metadata": {
        "id": "Hkr_17aUNlEx",
        "colab_type": "code",
        "colab": {
          "base_uri": "https://localhost:8080/",
          "height": 35
        },
        "outputId": "4c985ad5-5808-47fe-b586-32fe40fab37e"
      },
      "source": [
        "model.load_weights(\"./licenseplate_cfg20200509T2207/mask_rcnn_licenseplate_cfg_0031.h5\", by_name=True)"
      ],
      "execution_count": 56,
      "outputs": [
        {
          "output_type": "stream",
          "text": [
            "Re-starting from epoch 31\n"
          ],
          "name": "stdout"
        }
      ]
    },
    {
      "cell_type": "code",
      "metadata": {
        "id": "sa8ftBFzOixp",
        "colab_type": "code",
        "colab": {}
      },
      "source": [
        "#Detecting License Plate\n",
        "image = pyplot.imread(SUBMISSION_IMAGES+\"912.jpg\")\n",
        "# convert pixel values (e.g. center)\n",
        "scaled_image = mold_image(image, config)\n",
        "# convert image into one sample\n",
        "sample = expand_dims(scaled_image, 0)\n",
        "# make prediction\n",
        "yhat = model.detect(sample, verbose=0)[0]"
      ],
      "execution_count": 0,
      "outputs": []
    },
    {
      "cell_type": "code",
      "metadata": {
        "id": "N2tCEsWf0hjV",
        "colab_type": "code",
        "colab": {}
      },
      "source": [
        "def firstCrop(img, predictions):\n",
        "    firstCrop = []\n",
        "    for box in predictions['rois']:\n",
        "        # get coordinates\n",
        "        y1, x1, y2, x2 = box\n",
        "        # calculate width and height of the box\n",
        "        width, height = x2 - x1, y2 - y1\n",
        "        if width < height:\n",
        "            continue\n",
        "        # create the shape\n",
        "        rect = Rectangle((x1, y1), width, height, fill=False, color='red')\n",
        "        xtop = x1\n",
        "        ytop = y1\n",
        "        xbottom = x2\n",
        "        ybottom = y2\n",
        "        firstCrop.append(img[ytop:ybottom, xtop:xbottom])\n",
        "        cv2.rectangle(img,(xtop,ytop),(xbottom,ybottom),(0,255,0),0)\n",
        "    return firstCrop"
      ],
      "execution_count": 0,
      "outputs": []
    },
    {
      "cell_type": "code",
      "metadata": {
        "id": "mW4faHf-P0UA",
        "colab_type": "code",
        "colab": {}
      },
      "source": [
        "l = firstCrop(image, yhat)"
      ],
      "execution_count": 0,
      "outputs": []
    },
    {
      "cell_type": "code",
      "metadata": {
        "id": "eFlXl5UAQ1W0",
        "colab_type": "code",
        "colab": {}
      },
      "source": [
        "from google.colab.patches import cv2_imshow\n",
        "import imutils"
      ],
      "execution_count": 0,
      "outputs": []
    },
    {
      "cell_type": "code",
      "metadata": {
        "id": "lDqutSp8Q3VH",
        "colab_type": "code",
        "colab": {
          "base_uri": "https://localhost:8080/",
          "height": 117
        },
        "outputId": "af524421-1708-4f33-bb49-38deeb18240d"
      },
      "source": [
        "(h, w, d) = l[0].shape\n",
        "ratio = w/h\n",
        "img = cv2.resize(l[0], (int(100*ratio), 100))\n",
        "(h, w, d) = img.shape\n",
        "cv2_imshow(img)"
      ],
      "execution_count": 61,
      "outputs": [
        {
          "output_type": "display_data",
          "data": {
            "image/png": "[encoded data removed]",
            "text/plain": [
              "<PIL.Image.Image image mode=RGB size=359x100 at 0x7FC6AEF01BE0>"
            ]
          },
          "metadata": {
            "tags": []
          }
        }
      ]
    },
    {
      "cell_type": "code",
      "metadata": {
        "id": "eFFo4sd-Rg-H",
        "colab_type": "code",
        "colab": {
          "base_uri": "https://localhost:8080/",
          "height": 117
        },
        "outputId": "b2a117cc-5f05-48ee-a12f-230d7d84288a"
      },
      "source": [
        "img = cv2.cvtColor(img, cv2.COLOR_BGR2GRAY)\n",
        "cv2_imshow(img)"
      ],
      "execution_count": 62,
      "outputs": [
        {
          "output_type": "display_data",
          "data": {
            "image/png": "[encoded data removed]",
            "text/plain": [
              "<PIL.Image.Image image mode=L size=359x100 at 0x7FC6AEF072E8>"
            ]
          },
          "metadata": {
            "tags": []
          }
        }
      ]
    },
    {
      "cell_type": "code",
      "metadata": {
        "id": "HSGcwDm4Rhdn",
        "colab_type": "code",
        "colab": {
          "base_uri": "https://localhost:8080/",
          "height": 117
        },
        "outputId": "dcffa97f-9ea0-412a-c409-6bec83bcaf92"
      },
      "source": [
        "img = cv2.GaussianBlur(img, (3,3), 0)\n",
        "cv2_imshow(img)"
      ],
      "execution_count": 63,
      "outputs": [
        {
          "output_type": "display_data",
          "data": {
            "image/png": "[encoded data removed]",
            "text/plain": [
              "<PIL.Image.Image image mode=L size=359x100 at 0x7FC6AEF05F60>"
            ]
          },
          "metadata": {
            "tags": []
          }
        }
      ]
    },
    {
      "cell_type": "code",
      "metadata": {
        "id": "DYPnvCP4RkyM",
        "colab_type": "code",
        "colab": {
          "base_uri": "https://localhost:8080/",
          "height": 117
        },
        "outputId": "524f8ee8-69c1-47ef-b6cb-c58db46c6f3f"
      },
      "source": [
        "img2 = img.copy()\n",
        "img2 = cv2.threshold(img, 80, 255, cv2.THRESH_BINARY)[1]\n",
        "cv2_imshow(img2)"
      ],
      "execution_count": 64,
      "outputs": [
        {
          "output_type": "display_data",
          "data": {
            "image/png": "[encoded data removed]",
            "text/plain": [
              "<PIL.Image.Image image mode=L size=359x100 at 0x7FC6AEF057F0>"
            ]
          },
          "metadata": {
            "tags": []
          }
        }
      ]
    },
    {
      "cell_type": "code",
      "metadata": {
        "id": "bn0C9AJGRnPc",
        "colab_type": "code",
        "colab": {
          "base_uri": "https://localhost:8080/",
          "height": 117
        },
        "outputId": "3079bde2-12c1-4f2a-fa57-10eea36e5828"
      },
      "source": [
        "img2 = cv2.erode(img2, None, iterations=1)\n",
        "cv2_imshow(img2)"
      ],
      "execution_count": 65,
      "outputs": [
        {
          "output_type": "display_data",
          "data": {
            "image/png": "[encoded data removed]",
            "text/plain": [
              "<PIL.Image.Image image mode=L size=359x100 at 0x7FC6AEF05F60>"
            ]
          },
          "metadata": {
            "tags": []
          }
        }
      ]
    },
    {
      "cell_type": "code",
      "metadata": {
        "id": "BpHjrhxnYgcY",
        "colab_type": "code",
        "colab": {}
      },
      "source": [
        "DIGITS_PATH = './PlateDigits/'"
      ],
      "execution_count": 0,
      "outputs": []
    },
    {
      "cell_type": "code",
      "metadata": {
        "id": "JfFhetFKRwJw",
        "colab_type": "code",
        "colab": {
          "base_uri": "https://localhost:8080/",
          "height": 261
        },
        "outputId": "d00ee4eb-093a-4e00-fdc6-46e2017631f3"
      },
      "source": [
        "cnts = cv2.findContours(img2.copy(), cv2.RETR_EXTERNAL, cv2.CHAIN_APPROX_SIMPLE)\n",
        "cnts = imutils.grab_contours(cnts)\n",
        "digitCnts = []\n",
        "\n",
        "img3 = img2.copy()\n",
        "img3 = cv2.cvtColor(img3, cv2.COLOR_GRAY2BGR)\n",
        "i=0\n",
        "\n",
        "for c in cnts:\n",
        "  (cx, cy, cw, ch) = cv2.boundingRect(c)\n",
        "  #if ((cw >= w*0.05) and (cw <= w*0.5) and (ch >= h*0.5)):\n",
        "  if ch >= 1.5*cw:\n",
        "    digitCnts.append(c)\n",
        "    i+=1\n",
        "    cv2.rectangle(img3, (cx,cy), (cx+cw,cy+ch), (0,255,0), 1)\n",
        "    cv2.imwrite(DIGITS_PATH+'chiffre'+str(cx)+'.jpg',img3[cy:cy+ch, cx:cx+cw])\n",
        "cv2_imshow(img3)"
      ],
      "execution_count": 72,
      "outputs": [
        {
          "output_type": "stream",
          "text": [
            "198\n",
            "47\n",
            "30\n",
            "79\n",
            "255\n",
            "225\n",
            "284\n",
            "314\n"
          ],
          "name": "stdout"
        },
        {
          "output_type": "display_data",
          "data": {
            "image/png": "[encoded data removed]",
            "text/plain": [
              "<PIL.Image.Image image mode=RGB size=359x100 at 0x7FC6AEF57128>"
            ]
          },
          "metadata": {
            "tags": []
          }
        }
      ]
    },
    {
      "cell_type": "code",
      "metadata": {
        "id": "ASJlGz3PYg5E",
        "colab_type": "code",
        "colab": {}
      },
      "source": [
        "MODEL_PATH = './model_02.h5'"
      ],
      "execution_count": 0,
      "outputs": []
    },
    {
      "cell_type": "code",
      "metadata": {
        "id": "9P5Dc3arivRp",
        "colab_type": "code",
        "colab": {}
      },
      "source": [
        "from keras.models import load_model\n",
        "rec_model = load_model(MODEL_PATH)"
      ],
      "execution_count": 0,
      "outputs": []
    },
    {
      "cell_type": "code",
      "metadata": {
        "id": "wib7DO_Qi6Ho",
        "colab_type": "code",
        "colab": {}
      },
      "source": [
        "#img = cv2.imread(DIGITS_PATH+'chiffre30.jpg', 0)\n",
        "gray = cv2.imread(DIGITS_PATH+'chiffre225.jpg', cv2.IMREAD_GRAYSCALE)"
      ],
      "execution_count": 0,
      "outputs": []
    },
    {
      "cell_type": "code",
      "metadata": {
        "id": "T_guYiTejxtQ",
        "colab_type": "code",
        "colab": {}
      },
      "source": [
        "def getBestShift(img):\n",
        "    cy,cx = ndimage.measurements.center_of_mass(img)\n",
        "\n",
        "    rows,cols = img.shape\n",
        "    shiftx = np.round(cols/2.0-cx).astype(int)\n",
        "    shifty = np.round(rows/2.0-cy).astype(int)\n",
        "\n",
        "    return shiftx,shifty\n",
        "\n",
        "def shift(img,sx,sy):\n",
        "    rows,cols = img.shape\n",
        "    M = np.float32([[1,0,sx],[0,1,sy]])\n",
        "    shifted = cv2.warpAffine(img,M,(cols,rows))\n",
        "    return shifted"
      ],
      "execution_count": 0,
      "outputs": []
    },
    {
      "cell_type": "code",
      "metadata": {
        "id": "G3aBsPYrjsQ5",
        "colab_type": "code",
        "colab": {}
      },
      "source": [
        "gray = cv2.resize(gray, (28, 28))  # 255-gray for inverting black and white\n",
        "(thresh, gray) = cv2.threshold(gray, 128, 255, cv2.THRESH_BINARY | cv2.THRESH_OTSU)\n",
        "flatten = gray.flatten() / 255.0\n",
        "\n",
        "while np.sum(gray[0]) == 0:\n",
        "    gray = gray[1:]\n",
        "\n",
        "while np.sum(gray[:,0]) == 0:\n",
        "    gray = np.delete(gray,0,1)\n",
        "\n",
        "while np.sum(gray[-1]) == 0:\n",
        "    gray = gray[:-1]\n",
        "\n",
        "while np.sum(gray[:,-1]) == 0:\n",
        "    gray = np.delete(gray,-1,1)\n",
        "\n",
        "rows,cols = gray.shape\n",
        "if rows > cols:\n",
        "    factor = 20.0/rows\n",
        "    rows = 20\n",
        "    cols = int(round(cols*factor))\n",
        "    gray = cv2.resize(gray, (cols,rows))\n",
        "else:\n",
        "    factor = 20.0/cols\n",
        "    cols = 20\n",
        "    rows = int(round(rows*factor))\n",
        "    gray = cv2.resize(gray, (cols, rows))\n",
        "\n",
        "colsPadding = (int(math.ceil((28-cols)/2.0)),int(math.floor((28-cols)/2.0)))\n",
        "rowsPadding = (int(math.ceil((28-rows)/2.0)),int(math.floor((28-rows)/2.0)))\n",
        "gray = np.lib.pad(gray,(rowsPadding,colsPadding),'constant')\n",
        "\n",
        "shiftx,shifty = getBestShift(gray)\n",
        "shifted = shift(gray,shiftx,shifty)\n",
        "gray = shifted"
      ],
      "execution_count": 0,
      "outputs": []
    },
    {
      "cell_type": "code",
      "metadata": {
        "id": "60FwaGlXkBq7",
        "colab_type": "code",
        "colab": {
          "base_uri": "https://localhost:8080/",
          "height": 45
        },
        "outputId": "7e46e923-b0f3-41b9-fff2-7bdadd88bfde"
      },
      "source": [
        "cv2_imshow(gray)"
      ],
      "execution_count": 114,
      "outputs": [
        {
          "output_type": "display_data",
          "data": {
            "image/png": "[encoded data removed]",
            "text/plain": [
              "<PIL.Image.Image image mode=L size=28x28 at 0x7FC6AE853F28>"
            ]
          },
          "metadata": {
            "tags": []
          }
        }
      ]
    },
    {
      "cell_type": "code",
      "metadata": {
        "id": "Ch9lob7djNd8",
        "colab_type": "code",
        "colab": {
          "base_uri": "https://localhost:8080/",
          "height": 35
        },
        "outputId": "c13424f3-798b-497f-b9c5-a6fa0390bd7a"
      },
      "source": [
        "img = gray.reshape(1,1,28,28).astype('float32')\n",
        "img = img / 255\n",
        "prediction = rec_model.predict_classes(img)\n",
        "print(prediction[0])"
      ],
      "execution_count": 115,
      "outputs": [
        {
          "output_type": "stream",
          "text": [
            "8\n"
          ],
          "name": "stdout"
        }
      ]
    },
    {
      "cell_type": "code",
      "metadata": {
        "id": "u1yY2bYBjQ7x",
        "colab_type": "code",
        "colab": {}
      },
      "source": [
        ""
      ],
      "execution_count": 0,
      "outputs": []
    }
  ]
}