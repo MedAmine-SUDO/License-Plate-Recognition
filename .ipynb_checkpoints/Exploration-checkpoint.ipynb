{
 "cells": [
  {
   "cell_type": "markdown",
   "metadata": {},
   "source": [
    "This script is about exploring the training and test set\n",
    "You need to know these things about training/test set:\n",
    "    - shape and size\n",
    "    - type of the data and type of labels \n",
    "Next you need to display 10 images(trainig) with their repesctive labels "
   ]
  },
  {
   "cell_type": "code",
   "execution_count": 2,
   "metadata": {},
   "outputs": [
    {
     "name": "stdout",
     "output_type": "stream",
     "text": [
      "      img_id  ymin  xmin  ymax  xmax\n",
      "0      1.jpg   276    94   326   169\n",
      "1     10.jpg   311   395   344   444\n",
      "2    100.jpg   406   263   450   434\n",
      "3    101.jpg   283   363   315   494\n",
      "4    102.jpg   139    42   280   222\n",
      "..       ...   ...   ...   ...   ...\n",
      "895   95.jpg   426    34   508   140\n",
      "896   96.jpg   356   378   457   548\n",
      "897   97.jpg   229   149   283   217\n",
      "898   98.jpg   272   252   300   383\n",
      "899   99.jpg    53   503   217   569\n",
      "\n",
      "[900 rows x 5 columns]\n"
     ]
    }
   ],
   "source": [
    "#Import libraries\n",
    "import pandas\n",
    "import cv2\n",
    "import os\n",
    "import glob\n",
    "\n",
    "plate_detection_train_images_path = \"/home/medamine/Desktop/Dataset-pfa/license_plates_detection_train\"\n",
    "plate_recognition_train_images_path = \"/home/medamine/Desktop/Dataset-pfa/license_plates_recognition_train\"\n",
    "\n",
    "lp_detection = pandas.read_csv('license_plates_detection_train.csv')\n",
    "print(lp_detection)"
   ]
  },
  {
   "cell_type": "code",
   "execution_count": 3,
   "metadata": {},
   "outputs": [],
   "source": [
    "plateDetectionImages = [cv2.imread(plate_detection_train_images_path+'/'+file) for file in os.listdir(plate_detection_train_images_path)]"
   ]
  },
  {
   "cell_type": "code",
   "execution_count": 6,
   "metadata": {},
   "outputs": [],
   "source": [
    "cv2.imshow('image1', plateDetectionImages[1])"
   ]
  },
  {
   "cell_type": "code",
   "execution_count": null,
   "metadata": {},
   "outputs": [],
   "source": []
  }
 ],
 "metadata": {
  "kernelspec": {
   "display_name": "Python 3",
   "language": "python",
   "name": "python3"
  },
  "language_info": {
   "codemirror_mode": {
    "name": "ipython",
    "version": 3
   },
   "file_extension": ".py",
   "mimetype": "text/x-python",
   "name": "python",
   "nbconvert_exporter": "python",
   "pygments_lexer": "ipython3",
   "version": "3.8.2"
  }
 },
 "nbformat": 4,
 "nbformat_minor": 4
}
