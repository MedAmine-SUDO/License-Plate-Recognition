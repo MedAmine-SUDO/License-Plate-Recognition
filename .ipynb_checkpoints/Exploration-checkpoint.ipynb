{
 "cells": [
  {
   "cell_type": "markdown",
   "metadata": {},
   "source": [
    "This script is about exploring the training and test set\n",
    "You need to know these things about training/test set:\n",
    "    - shape and size\n",
    "    - type of the data and type of labels \n",
    "Next you need to display 10 images(trainig) with their repesctive labels "
   ]
  },
  {
   "cell_type": "code",
   "execution_count": 1,
   "metadata": {},
   "outputs": [
    {
     "name": "stdout",
     "output_type": "stream",
     "text": [
      "      img_id  ymin  xmin  ymax  xmax\n",
      "0      1.jpg   276    94   326   169\n",
      "1     10.jpg   311   395   344   444\n",
      "2    100.jpg   406   263   450   434\n",
      "3    101.jpg   283   363   315   494\n",
      "4    102.jpg   139    42   280   222\n",
      "..       ...   ...   ...   ...   ...\n",
      "895   95.jpg   426    34   508   140\n",
      "896   96.jpg   356   378   457   548\n",
      "897   97.jpg   229   149   283   217\n",
      "898   98.jpg   272   252   300   383\n",
      "899   99.jpg    53   503   217   569\n",
      "\n",
      "[900 rows x 5 columns]\n"
     ]
    }
   ],
   "source": [
    "#Import libraries\n",
    "import pandas\n",
    "import cv2\n",
    "import os\n",
    "import glob\n",
    "\n",
    "plate_detection_train_images_path = \"/home/medamine/Desktop/Dataset-pfa/license_plates_detection_train\"\n",
    "plate_recognition_train_images_path = \"/home/medamine/Desktop/Dataset-pfa/license_plates_recognition_train\"\n",
    "\n",
    "lp_detection = pandas.read_csv('license_plates_detection_train.csv')\n",
    "print(lp_detection)"
   ]
  },
  {
   "cell_type": "code",
   "execution_count": 2,
   "metadata": {},
   "outputs": [],
   "source": [
    "plateDetectionImages = [cv2.imread(plate_detection_train_images_path+'/'+file) for file in os.listdir(plate_detection_train_images_path)]"
   ]
  },
  {
   "cell_type": "code",
   "execution_count": 4,
   "metadata": {},
   "outputs": [],
   "source": [
    "cv2.imshow('image1', plateDetectionImages[1])\n",
    "cv2.waitKey(0)\n",
    "cv2.destroyAllWindows()"
   ]
  },
  {
   "cell_type": "code",
   "execution_count": 16,
   "metadata": {},
   "outputs": [
    {
     "data": {
      "text/html": [
       "<div>\n",
       "<style scoped>\n",
       "    .dataframe tbody tr th:only-of-type {\n",
       "        vertical-align: middle;\n",
       "    }\n",
       "\n",
       "    .dataframe tbody tr th {\n",
       "        vertical-align: top;\n",
       "    }\n",
       "\n",
       "    .dataframe thead th {\n",
       "        text-align: right;\n",
       "    }\n",
       "</style>\n",
       "<table border=\"1\" class=\"dataframe\">\n",
       "  <thead>\n",
       "    <tr style=\"text-align: right;\">\n",
       "      <th></th>\n",
       "      <th>img_id</th>\n",
       "      <th>ymin</th>\n",
       "      <th>xmin</th>\n",
       "      <th>ymax</th>\n",
       "      <th>xmax</th>\n",
       "    </tr>\n",
       "  </thead>\n",
       "  <tbody>\n",
       "    <tr>\n",
       "      <th>0</th>\n",
       "      <td>1.jpg</td>\n",
       "      <td>276</td>\n",
       "      <td>94</td>\n",
       "      <td>326</td>\n",
       "      <td>169</td>\n",
       "    </tr>\n",
       "    <tr>\n",
       "      <th>1</th>\n",
       "      <td>10.jpg</td>\n",
       "      <td>311</td>\n",
       "      <td>395</td>\n",
       "      <td>344</td>\n",
       "      <td>444</td>\n",
       "    </tr>\n",
       "    <tr>\n",
       "      <th>2</th>\n",
       "      <td>100.jpg</td>\n",
       "      <td>406</td>\n",
       "      <td>263</td>\n",
       "      <td>450</td>\n",
       "      <td>434</td>\n",
       "    </tr>\n",
       "    <tr>\n",
       "      <th>3</th>\n",
       "      <td>101.jpg</td>\n",
       "      <td>283</td>\n",
       "      <td>363</td>\n",
       "      <td>315</td>\n",
       "      <td>494</td>\n",
       "    </tr>\n",
       "    <tr>\n",
       "      <th>4</th>\n",
       "      <td>102.jpg</td>\n",
       "      <td>139</td>\n",
       "      <td>42</td>\n",
       "      <td>280</td>\n",
       "      <td>222</td>\n",
       "    </tr>\n",
       "  </tbody>\n",
       "</table>\n",
       "</div>"
      ],
      "text/plain": [
       "    img_id  ymin  xmin  ymax  xmax\n",
       "0    1.jpg   276    94   326   169\n",
       "1   10.jpg   311   395   344   444\n",
       "2  100.jpg   406   263   450   434\n",
       "3  101.jpg   283   363   315   494\n",
       "4  102.jpg   139    42   280   222"
      ]
     },
     "execution_count": 16,
     "metadata": {},
     "output_type": "execute_result"
    }
   ],
   "source": [
    "lp_detection.head()"
   ]
  },
  {
   "cell_type": "code",
   "execution_count": null,
   "metadata": {},
   "outputs": [],
   "source": [
    "ymin, xmin, ymax, xmax = lp_detection.iloc[0][1], lp_detection.iloc[0][2], lp_detection.iloc[0][3], lp_detection.iloc[0][4]\n",
    "image = cv2.rectangle(plateDetectionImages[0],(xmin, ymin), (xmax, ymax), (255, 0, 0), 2)\n",
    "cv2.imshow('image', image)\n",
    "cv2.waitKey(0)\n",
    "cv2.destroyAllWindows()"
   ]
  },
  {
   "cell_type": "code",
   "execution_count": null,
   "metadata": {},
   "outputs": [],
   "source": []
  }
 ],
 "metadata": {
  "kernelspec": {
   "display_name": "Python 3",
   "language": "python",
   "name": "python3"
  },
  "language_info": {
   "codemirror_mode": {
    "name": "ipython",
    "version": 3
   },
   "file_extension": ".py",
   "mimetype": "text/x-python",
   "name": "python",
   "nbconvert_exporter": "python",
   "pygments_lexer": "ipython3",
   "version": "3.8.2"
  }
 },
 "nbformat": 4,
 "nbformat_minor": 4
}
