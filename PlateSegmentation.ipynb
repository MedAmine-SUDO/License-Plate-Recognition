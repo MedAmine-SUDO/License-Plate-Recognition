{
  "nbformat": 4,
  "nbformat_minor": 0,
  "metadata": {
    "colab": {
      "name": "PlateSegmentation.ipynb",
      "provenance": [],
      "mount_file_id": "1y53xbcP71OPsJ60qqxJZdBMDDVY2mkci",
      "authorship_tag": "ABX9TyPrfbt03WG4zREiJ2DivKgM",
      "include_colab_link": true
    },
    "kernelspec": {
      "name": "python3",
      "display_name": "Python 3"
    }
  },
  "cells": [
    {
      "cell_type": "markdown",
      "metadata": {
        "id": "view-in-github",
        "colab_type": "text"
      },
      "source": [
        "<a href=\"https://colab.research.google.com/github/MedAmine-SUDO/Tunisian-License-Plate-Recognition/blob/master/PlateSegmentation.ipynb\" target=\"_parent\"><img src=\"https://colab.research.google.com/assets/colab-badge.svg\" alt=\"Open In Colab\"/></a>"
      ]
    },
    {
      "cell_type": "markdown",
      "metadata": {
        "id": "UTj3-gqEX1CG",
        "colab_type": "text"
      },
      "source": [
        "*Import libraries*"
      ]
    },
    {
      "cell_type": "code",
      "metadata": {
        "id": "_nXOSHerGiWT",
        "colab_type": "code",
        "colab": {}
      },
      "source": [
        "import cv2\n",
        "from PIL import Image\n",
        "from matplotlib import pyplot as plt\n",
        "import numpy as np\n",
        "\n",
        "from skimage.data import page\n",
        "from skimage.filters import (threshold_otsu, threshold_niblack, threshold_sauvola)"
      ],
      "execution_count": 0,
      "outputs": []
    },
    {
      "cell_type": "code",
      "metadata": {
        "id": "ctGCJbAbIQZq",
        "colab_type": "code",
        "colab": {}
      },
      "source": [
        "#Path definitions\n",
        "PLATES = './plateImages/'"
      ],
      "execution_count": 0,
      "outputs": []
    },
    {
      "cell_type": "markdown",
      "metadata": {
        "id": "OaBoWt4cYN_x",
        "colab_type": "text"
      },
      "source": [
        "*Read image in grayscale*"
      ]
    },
    {
      "cell_type": "code",
      "metadata": {
        "id": "w9ueYZI3H8fM",
        "colab_type": "code",
        "outputId": "7e48af70-7524-4ed7-83d9-a498aaa0c346",
        "colab": {
          "base_uri": "https://localhost:8080/",
          "height": 143
        }
      },
      "source": [
        "im = cv2.imread(PLATES+\"0.jpg\", cv2.IMREAD_GRAYSCALE)\n",
        "plt.imshow(im, cmap=plt.cm.gray)\n",
        "print(im.shape)"
      ],
      "execution_count": 16,
      "outputs": [
        {
          "output_type": "stream",
          "text": [
            "(20, 89)\n"
          ],
          "name": "stdout"
        },
        {
          "output_type": "display_data",
          "data": {
            "image/png": "[encoded data removed]",
            "text/plain": [
              "<Figure size 432x288 with 1 Axes>"
            ]
          },
          "metadata": {
            "tags": [],
            "needs_background": "light"
          }
        }
      ]
    },
    {
      "cell_type": "markdown",
      "metadata": {
        "id": "Y_-xgam6YUhe",
        "colab_type": "text"
      },
      "source": [
        "*Apply Niblack's local threshhold*"
      ]
    },
    {
      "cell_type": "code",
      "metadata": {
        "id": "ZA7LLfj0YTVq",
        "colab_type": "code",
        "outputId": "5d92bbb1-fc06-4a1e-a9fc-93b609a2903b",
        "colab": {
          "base_uri": "https://localhost:8080/",
          "height": 130
        }
      },
      "source": [
        "#Local binarization Niblack's\n",
        "window_size = 25\n",
        "thresh_niblack = threshold_niblack(im, window_size=window_size, k=0)\n",
        "binary_niblack = im > thresh_niblack\n",
        "plt.imshow(binary_niblack, cmap=plt.cm.gray)"
      ],
      "execution_count": 0,
      "outputs": [
        {
          "output_type": "execute_result",
          "data": {
            "text/plain": [
              "<matplotlib.image.AxesImage at 0x7f2c2d531c50>"
            ]
          },
          "metadata": {
            "tags": []
          },
          "execution_count": 131
        },
        {
          "output_type": "display_data",
          "data": {
            "image/png": "[encoded data removed]",
            "text/plain": [
              "<Figure size 432x288 with 1 Axes>"
            ]
          },
          "metadata": {
            "tags": [],
            "needs_background": "light"
          }
        }
      ]
    },
    {
      "cell_type": "markdown",
      "metadata": {
        "id": "RMIEqtuhYdLO",
        "colab_type": "text"
      },
      "source": [
        "First method with global threshhold"
      ]
    },
    {
      "cell_type": "code",
      "metadata": {
        "id": "R3hxsKAOOHd8",
        "colab_type": "code",
        "colab": {}
      },
      "source": [
        "(_, gray) = cv2.threshold(im, 170, 255, cv2.THRESH_OTSU)\n",
        "plt.imshow(gray)"
      ],
      "execution_count": 0,
      "outputs": []
    },
    {
      "cell_type": "code",
      "metadata": {
        "id": "8hYvKhxRIzju",
        "colab_type": "code",
        "colab": {}
      },
      "source": [
        "ctrs,_ = cv2.findContours(im.copy(), cv2.RETR_LIST, cv2.CHAIN_APPROX_SIMPLE)\n",
        "rects = [cv2.boundingRect(ctr) for ctr in ctrs]\n",
        "j=0\n",
        "digits = []\n",
        "for rect in rects:\n",
        "    x = rect[0]\n",
        "    y = rect[1]\n",
        "    w = rect[2]\n",
        "    h = rect[3]\n",
        "    crop_im = im[y:y+h, x:x+w]\n",
        "    #if w > h:\n",
        "    #    continue\n",
        "    #if h < 15:\n",
        "    #    continue\n",
        "    digits.append(crop_im)\n",
        "    plt.figure(figsize=(3,3))\n",
        "    plt.imshow(crop_im)\n",
        "    plt.show()"
      ],
      "execution_count": 0,
      "outputs": []
    },
    {
      "cell_type": "code",
      "metadata": {
        "id": "tJx_RdCPIORD",
        "colab_type": "code",
        "colab": {}
      },
      "source": [
        ""
      ],
      "execution_count": 0,
      "outputs": []
    }
  ]
}