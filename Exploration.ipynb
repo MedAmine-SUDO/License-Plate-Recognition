{
 "cells": [
  {
   "cell_type": "markdown",
   "metadata": {},
   "source": [
    "This script is about exploring the training and test set\n",
    "You need to know these things about training/test set:\n",
    "    - shape and size\n",
    "    - type of the data and type of labels \n",
    "Next you need to display 10 images(trainig) with their repesctive labels "
   ]
  },
  {
   "cell_type": "code",
   "execution_count": 2,
   "metadata": {},
   "outputs": [],
   "source": [
    "#Import libraries\n",
    "import pandas\n",
    "import cv2\n",
    "import os\n",
    "import glob\n",
    "import matplotlib.pyplot as plt\n",
    "\n",
    "plate_detection_train_images_path = \"/home/medamine/Desktop/Dataset-pfa/license_plates_detection_train\"\n",
    "plate_recognition_train_images_path = \"/home/medamine/Desktop/Dataset-pfa/license_plates_recognition_train\""
   ]
  },
  {
   "cell_type": "code",
   "execution_count": 3,
   "metadata": {
    "tags": [
     "outputPrepend"
    ]
   },
   "outputs": [],
   "source": [
    "lp_detection = pandas.read_csv('license_plates_detection_train.csv')\n",
    "#lp_detectino columns are: ['img_id', 'ymin', 'xmin', 'ymax', 'xmax']\n",
    "#convert dataframe to dictionary\n",
    "lp_detection = lp_detection.set_index('img_id').T.to_dict('list')   \n",
    "#sorted the dictionary\n",
    "lp_detection = {k: v for k, v in sorted(lp_detection.items(), key=lambda item: item[1])}\n"
   ]
  },
  {
   "cell_type": "code",
   "execution_count": 4,
   "metadata": {},
   "outputs": [],
   "source": [
    "plateDetectionImages = {file: cv2.imread(plate_detection_train_images_path+'/'+file) for file in os.listdir(plate_detection_train_images_path)}\n"
   ]
  },
  {
   "cell_type": "code",
   "execution_count": 5,
   "metadata": {},
   "outputs": [],
   "source": [
    "cv2.imshow('image1', plateDetectionImages['2.jpg'])\n",
    "cv2.waitKey(0)\n",
    "cv2.destroyAllWindows()"
   ]
  },
  {
   "cell_type": "code",
   "execution_count": 12,
   "metadata": {},
   "outputs": [],
   "source": [
    "l = ['1.jpg', '2.jpg', '3.jpg', '4.jpg', '5.jpg', '6.jpg', '7.jpg', '8.jpg', '9.jpg', '10.jpg']\n",
    "for item in l:\n",
    "    xmin = lp_detection[item][1]\n",
    "    ymin = lp_detection[item][0]\n",
    "    xmax = lp_detection[item][3]\n",
    "    ymax = lp_detection[item][2]\n",
    "\n",
    "    image = cv2.rectangle(plateDetectionImages[item],(xmin, ymin), (xmax, ymax), (255, 0, 0), 1)\n",
    "    cv2.imshow(item, image)\n",
    "    cv2.waitKey(0)\n",
    "    cv2.destroyAllWindows()"
   ]
  },
  {
   "cell_type": "code",
   "execution_count": null,
   "metadata": {},
   "outputs": [],
   "source": []
  }
 ],
 "metadata": {
  "kernelspec": {
   "display_name": "Python 3.8.2 64-bit ('licencePlateRec': conda)",
   "language": "python",
   "name": "python38264bitlicenceplaterecconda929b75812cc84b58b1c904b5826288a5"
  },
  "language_info": {
   "codemirror_mode": {
    "name": "ipython",
    "version": 3
   },
   "file_extension": ".py",
   "mimetype": "text/x-python",
   "name": "python",
   "nbconvert_exporter": "python",
   "pygments_lexer": "ipython3",
   "version": "3.8.2-final"
  }
 },
 "nbformat": 4,
 "nbformat_minor": 4
}