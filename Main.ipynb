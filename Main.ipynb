{
  "nbformat": 4,
  "nbformat_minor": 0,
  "metadata": {
    "colab": {
      "name": "Main.ipynb",
      "provenance": [],
      "collapsed_sections": [],
      "mount_file_id": "1wRbR1IbuaZCnwZH0Kns09O_2iPdTR1P0",
      "authorship_tag": "ABX9TyMWUxxiXC801K5+qMFqB4wz",
      "include_colab_link": true
    },
    "kernelspec": {
      "name": "python3",
      "display_name": "Python 3"
    }
  },
  "cells": [
    {
      "cell_type": "markdown",
      "metadata": {
        "id": "view-in-github",
        "colab_type": "text"
      },
      "source": [
        "<a href=\"https://colab.research.google.com/github/MedAmine-SUDO/Tunisian-License-Plate-Recognition/blob/master/Main.ipynb\" target=\"_parent\"><img src=\"https://colab.research.google.com/assets/colab-badge.svg\" alt=\"Open In Colab\"/></a>"
      ]
    },
    {
      "cell_type": "markdown",
      "metadata": {
        "id": "Sj5J7ecjMGGb",
        "colab_type": "text"
      },
      "source": [
        "In case you got an error \"Mask RCNN is not installed\" you have to change directory to Mask_RCNN folder and run these commands:\n",
        "\n",
        "1.   !pip install -r requirements.txt\n",
        "2.   !python setup.py install\n",
        "\n"
      ]
    },
    {
      "cell_type": "code",
      "metadata": {
        "id": "KCCBNI8wLRED",
        "colab_type": "code",
        "colab": {}
      },
      "source": [
        "from os import listdir\n",
        "import numpy as np\n",
        "from numpy import expand_dims\n",
        "from mrcnn.config import Config\n",
        "from mrcnn.model import MaskRCNN\n",
        "from mrcnn.model import mold_image\n",
        "from matplotlib import pyplot\n",
        "from matplotlib.patches import Rectangle\n",
        "from PIL import Image\n",
        "import cv2\n",
        "import math\n",
        "from scipy import ndimage\n",
        "from keras.models import load_model\n",
        "from google.colab.patches import cv2_imshow\n",
        "import imutils\n",
        "from matplotlib import pyplot as plt\n",
        "from os import listdir"
      ],
      "execution_count": null,
      "outputs": []
    },
    {
      "cell_type": "code",
      "metadata": {
        "id": "8SHv37-z6isS",
        "colab_type": "code",
        "colab": {}
      },
      "source": [
        "from flask import Flask, render_template, request, url_for, jsonify\n",
        "from flask_ngrok import run_with_ngrok\n",
        "from flask import jsonify"
      ],
      "execution_count": 248,
      "outputs": []
    },
    {
      "cell_type": "code",
      "metadata": {
        "id": "Jp1dD1vR6zZW",
        "colab_type": "code",
        "colab": {
          "base_uri": "https://localhost:8080/",
          "height": 270
        },
        "outputId": "1fd4ee6b-4240-459e-8fb1-55a3a812493b"
      },
      "source": [
        "app = Flask(__name__)\n",
        "run_with_ngrok(app)   #starts ngrok when the app is run\n",
        "\n",
        "@app.route('/')\n",
        "def home():\n",
        "    return render_template('index.html')\n",
        "\n",
        "@app.route('/predict', methods=['POST'])\n",
        "def predict():\n",
        "    yhat, image = detectPlate(request.files['image'])\n",
        "    l = firstCrop(image, yhat)\n",
        "    segmentNumber(l[0])\n",
        "    pl = listdir(DIGITS_PATH)\n",
        "    pl = [(lambda x: int(x[:-4]))(x) for x in pl]\n",
        "    pl = sorted(pl)\n",
        "    res = recognize(pl)\n",
        "    return jsonify(res)\n",
        "    \n",
        "if __name__ == \"__main__\":\n",
        "    app.run()"
      ],
      "execution_count": 252,
      "outputs": [
        {
          "output_type": "stream",
          "text": [
            " * Serving Flask app \"__main__\" (lazy loading)\n",
            " * Environment: production\n",
            "\u001b[31m   WARNING: This is a development server. Do not use it in a production deployment.\u001b[0m\n",
            "\u001b[2m   Use a production WSGI server instead.\u001b[0m\n",
            " * Debug mode: off\n",
            " * Running on http://d6c601cccf38.ngrok.io\n",
            " * Traffic stats available on http://127.0.0.1:4040\n"
          ],
          "name": "stdout"
        },
        {
          "output_type": "stream",
          "text": [
            "127.0.0.1 - - [12/Jul/2020 15:35:19] \"\u001b[31m\u001b[1mPOST / HTTP/1.1\u001b[0m\" 405 -\n"
          ],
          "name": "stderr"
        },
        {
          "output_type": "display_data",
          "data": {
            "image/png": "[encoded data removed]",
            "text/plain": [
              "<PIL.Image.Image image mode=RGB size=389x100 at 0x7FE6965322B0>"
            ]
          },
          "metadata": {
            "tags": []
          }
        },
        {
          "output_type": "stream",
          "text": [
            "127.0.0.1 - - [12/Jul/2020 15:36:26] \"\u001b[37mPOST /predict HTTP/1.1\u001b[0m\" 200 -\n"
          ],
          "name": "stderr"
        }
      ]
    },
    {
      "cell_type": "code",
      "metadata": {
        "id": "FKTBYHaFfeKH",
        "colab_type": "code",
        "colab": {
          "base_uri": "https://localhost:8080/",
          "height": 34
        },
        "outputId": "bae392e7-1970-48c0-e481-be97178bc49b"
      },
      "source": [
        "cd .."
      ],
      "execution_count": 15,
      "outputs": [
        {
          "output_type": "stream",
          "text": [
            "/content/drive/My Drive/LicensePlateProject\n"
          ],
          "name": "stdout"
        }
      ]
    },
    {
      "cell_type": "code",
      "metadata": {
        "id": "ZresEF0QNBde",
        "colab_type": "code",
        "colab": {}
      },
      "source": [
        "#Ensure that you are in the project directory\n",
        "SUBMISSION_IMAGES = \"./SubmissionImages/\""
      ],
      "execution_count": 16,
      "outputs": []
    },
    {
      "cell_type": "code",
      "metadata": {
        "id": "E30XS85_Eihz",
        "colab_type": "code",
        "colab": {}
      },
      "source": [
        "# define a configuration for the model\n",
        "class LicensePlateConfig(Config):\n",
        "\t# define the name of the configuration\n",
        "\tNAME = \"LicensePlate_cfg\"\n",
        "\t# number of classes (background + License Plate)\n",
        "\tNUM_CLASSES = 1 + 1\n",
        "\t# number of training steps per epoch\n",
        "\tSTEPS_PER_EPOCH = 131\n",
        "\t# simplify GPU config\n",
        "\tGPU_COUNT = 1\n",
        "\tIMAGES_PER_GPU = 1"
      ],
      "execution_count": 17,
      "outputs": []
    },
    {
      "cell_type": "code",
      "metadata": {
        "id": "GzqQImTmNYcc",
        "colab_type": "code",
        "colab": {}
      },
      "source": [
        "# prepare config\n",
        "config = LicensePlateConfig()"
      ],
      "execution_count": 18,
      "outputs": []
    },
    {
      "cell_type": "code",
      "metadata": {
        "id": "5A5Of07vNaMe",
        "colab_type": "code",
        "colab": {}
      },
      "source": [
        "# define the model\n",
        "model = MaskRCNN(mode='inference', model_dir='./', config=config)"
      ],
      "execution_count": null,
      "outputs": []
    },
    {
      "cell_type": "code",
      "metadata": {
        "id": "Hkr_17aUNlEx",
        "colab_type": "code",
        "colab": {}
      },
      "source": [
        "model.load_weights(\"./licenseplate_cfg20200509T2207/mask_rcnn_licenseplate_cfg_0031.h5\", by_name=True)"
      ],
      "execution_count": null,
      "outputs": []
    },
    {
      "cell_type": "code",
      "metadata": {
        "id": "rjRQnCy8zwSq",
        "colab_type": "code",
        "colab": {}
      },
      "source": [
        "def detectPlate(imagePath):\n",
        "    #Detecting License Plate\n",
        "    #image = pyplot.imread(SUBMISSION_IMAGES+str(imageNum)+\".jpg\")\n",
        "    image = pyplot.imread(imagePath)\n",
        "    # convert pixel values (e.g. center)\n",
        "    scaled_image = mold_image(image, config)\n",
        "    # convert image into one sample\n",
        "    sample = expand_dims(scaled_image, 0)\n",
        "    # make prediction\n",
        "    yhat = model.detect(sample, verbose=0)[0]\n",
        "\n",
        "    return yhat, image"
      ],
      "execution_count": 215,
      "outputs": []
    },
    {
      "cell_type": "code",
      "metadata": {
        "id": "N2tCEsWf0hjV",
        "colab_type": "code",
        "colab": {}
      },
      "source": [
        "def firstCrop(img, predictions):\n",
        "    firstCrop = []\n",
        "    for box in predictions['rois']:\n",
        "        # get coordinates\n",
        "        y1, x1, y2, x2 = box\n",
        "        # calculate width and height of the box\n",
        "        width, height = x2 - x1, y2 - y1\n",
        "        if width < height:\n",
        "            continue\n",
        "        # create the shape\n",
        "        rect = Rectangle((x1, y1), width, height, fill=False, color='red')\n",
        "        xtop = x1\n",
        "        ytop = y1\n",
        "        xbottom = x2\n",
        "        ybottom = y2\n",
        "        firstCrop.append(img[ytop:ybottom, xtop:xbottom])\n",
        "        cv2.rectangle(img,(xtop,ytop),(xbottom,ybottom),(0,255,0),0)\n",
        "    return firstCrop"
      ],
      "execution_count": 173,
      "outputs": []
    },
    {
      "cell_type": "code",
      "metadata": {
        "id": "mW4faHf-P0UA",
        "colab_type": "code",
        "colab": {}
      },
      "source": [
        "yhat, image = detectPlate(904)\n",
        "l = firstCrop(image, yhat)"
      ],
      "execution_count": 174,
      "outputs": []
    },
    {
      "cell_type": "code",
      "metadata": {
        "id": "Kj3ZtpLh08Wk",
        "colab_type": "code",
        "colab": {}
      },
      "source": [
        "def segmentNumber(image):\n",
        "    (h, w, d) = image.shape\n",
        "    ratio = w/h\n",
        "    img = cv2.resize(image, (int(100*ratio), 100))\n",
        "    img = cv2.cvtColor(img, cv2.COLOR_BGR2GRAY)\n",
        "    img = cv2.GaussianBlur(img, (3,3), 0)\n",
        "    img2 = img.copy()\n",
        "    img2 = cv2.adaptiveThreshold(img2, 255, cv2.ADAPTIVE_THRESH_GAUSSIAN_C, cv2.THRESH_BINARY, 115, 1)\n",
        "    img2 = cv2.erode(img2, None, iterations=1)\n",
        "    cnts = cv2.findContours(img2.copy(), cv2.RETR_EXTERNAL, cv2.CHAIN_APPROX_SIMPLE)\n",
        "    cnts = imutils.grab_contours(cnts)\n",
        "    digitCnts = []\n",
        "\n",
        "    img3 = img2.copy()\n",
        "    img3 = cv2.cvtColor(img3, cv2.COLOR_GRAY2BGR)\n",
        "    i=0\n",
        "    for file in os.listdir(DIGITS_PATH):\n",
        "        os.remove(DIGITS_PATH+file)\n",
        "        \n",
        "    for c in cnts:\n",
        "        (cx, cy, cw, ch) = cv2.boundingRect(c)\n",
        "        #if ((cw >= w*0.05) and (cw <= w*0.5) and (ch >= h*0.5)):\n",
        "        if ch >= 1.5*cw and ((cx > 10 and cx < 90) or (cx > 100 and cx < 500)):\n",
        "            digitCnts.append(c)\n",
        "            i+=1\n",
        "            cv2.rectangle(img3, (cx,cy), (cx+cw,cy+ch), (0,255,0), 1)\n",
        "            cv2.imwrite(DIGITS_PATH+str(cx)+'.jpg',img3[cy:cy+ch, cx:cx+cw])\n",
        "    cv2_imshow(img3)\n"
      ],
      "execution_count": 246,
      "outputs": []
    },
    {
      "cell_type": "code",
      "metadata": {
        "id": "iTvdgPP12lr4",
        "colab_type": "code",
        "colab": {
          "base_uri": "https://localhost:8080/",
          "height": 168
        },
        "outputId": "25981f82-07c1-4932-b11f-ad502b8de001"
      },
      "source": [
        "cv2_imshow(l[0])\n",
        "segmentNumber(l[0])"
      ],
      "execution_count": 201,
      "outputs": [
        {
          "output_type": "display_data",
          "data": {
            "image/png": "[encoded data removed]",
            "text/plain": [
              "<PIL.Image.Image image mode=RGB size=257x51 at 0x7FE69784DFD0>"
            ]
          },
          "metadata": {
            "tags": []
          }
        },
        {
          "output_type": "display_data",
          "data": {
            "image/png": "[encoded data removed]",
            "text/plain": [
              "<PIL.Image.Image image mode=RGB size=503x100 at 0x7FE69784D518>"
            ]
          },
          "metadata": {
            "tags": []
          }
        }
      ]
    },
    {
      "cell_type": "code",
      "metadata": {
        "id": "bsX0rPT4oyn_",
        "colab_type": "code",
        "colab": {}
      },
      "source": [
        "DIGITS_PATH = \"./PlateDigits/\""
      ],
      "execution_count": 135,
      "outputs": []
    },
    {
      "cell_type": "code",
      "metadata": {
        "id": "ASJlGz3PYg5E",
        "colab_type": "code",
        "colab": {}
      },
      "source": [
        "MODEL_PATH = './model_02.h5'"
      ],
      "execution_count": 54,
      "outputs": []
    },
    {
      "cell_type": "code",
      "metadata": {
        "id": "9P5Dc3arivRp",
        "colab_type": "code",
        "colab": {}
      },
      "source": [
        "from keras.models import load_model\n",
        "rec_model = load_model(MODEL_PATH)"
      ],
      "execution_count": null,
      "outputs": []
    },
    {
      "cell_type": "code",
      "metadata": {
        "id": "T_guYiTejxtQ",
        "colab_type": "code",
        "colab": {}
      },
      "source": [
        "def getBestShift(img):\n",
        "    cy,cx = ndimage.measurements.center_of_mass(img)\n",
        "\n",
        "    rows,cols = img.shape\n",
        "    shiftx = np.round(cols/2.0-cx).astype(int)\n",
        "    shifty = np.round(rows/2.0-cy).astype(int)\n",
        "\n",
        "    return shiftx,shifty\n",
        "\n",
        "def shift(img,sx,sy):\n",
        "    rows,cols = img.shape\n",
        "    M = np.float32([[1,0,sx],[0,1,sy]])\n",
        "    shifted = cv2.warpAffine(img,M,(cols,rows))\n",
        "    return shifted"
      ],
      "execution_count": 59,
      "outputs": []
    },
    {
      "cell_type": "code",
      "metadata": {
        "id": "Jd5IUDSvGXS3",
        "colab_type": "code",
        "colab": {}
      },
      "source": [
        "pl = listdir(DIGITS_PATH)\n",
        "pl = [(lambda x: int(x[:-4]))(x) for x in pl]\n",
        "pl = sorted(pl)"
      ],
      "execution_count": 202,
      "outputs": []
    },
    {
      "cell_type": "code",
      "metadata": {
        "id": "xD-jhQySVBjV",
        "colab_type": "code",
        "colab": {
          "base_uri": "https://localhost:8080/",
          "height": 34
        },
        "outputId": "0b1eda7a-1eed-4524-9787-24134bf46387"
      },
      "source": [
        "print(pl)"
      ],
      "execution_count": 203,
      "outputs": [
        {
          "output_type": "stream",
          "text": [
            "[66, 138, 314, 353, 392, 430]\n"
          ],
          "name": "stdout"
        }
      ]
    },
    {
      "cell_type": "code",
      "metadata": {
        "id": "HjyXFYC-5McT",
        "colab_type": "code",
        "colab": {}
      },
      "source": [
        "def recognize(digitList):\n",
        "    licPlate = []\n",
        "    for im in digitList:\n",
        "        gray = cv2.imread(DIGITS_PATH+str(im)+'.jpg', cv2.IMREAD_GRAYSCALE)\n",
        "        gray = cv2.resize(gray, (28, 28))  # 255-gray for inverting black and white\n",
        "        (thresh, gray) = cv2.threshold(gray, 128, 255, cv2.THRESH_BINARY | cv2.THRESH_OTSU)\n",
        "        flatten = gray.flatten() / 255.0\n",
        "\n",
        "        while np.sum(gray[0]) == 0:\n",
        "            gray = gray[1:]\n",
        "\n",
        "        while np.sum(gray[:,0]) == 0:\n",
        "            gray = np.delete(gray,0,1)\n",
        "\n",
        "        while np.sum(gray[-1]) == 0:\n",
        "            gray = gray[:-1]\n",
        "\n",
        "        while np.sum(gray[:,-1]) == 0:\n",
        "            gray = np.delete(gray,-1,1)\n",
        "\n",
        "        rows,cols = gray.shape\n",
        "        if rows > cols:\n",
        "            factor = 20.0/rows\n",
        "            rows = 20\n",
        "            cols = int(round(cols*factor))\n",
        "            gray = cv2.resize(gray, (cols,rows))\n",
        "        else:\n",
        "            factor = 20.0/cols\n",
        "            cols = 20\n",
        "            rows = int(round(rows*factor))\n",
        "            gray = cv2.resize(gray, (cols, rows))\n",
        "\n",
        "        colsPadding = (int(math.ceil((28-cols)/2.0)),int(math.floor((28-cols)/2.0)))\n",
        "        rowsPadding = (int(math.ceil((28-rows)/2.0)),int(math.floor((28-rows)/2.0)))\n",
        "        gray = np.lib.pad(gray,(rowsPadding,colsPadding),'constant')\n",
        "\n",
        "        shiftx,shifty = getBestShift(gray)\n",
        "        shifted = shift(gray,shiftx,shifty)\n",
        "        gray = shifted\n",
        "\n",
        "        img = gray.reshape(1,1,28,28).astype('float32')\n",
        "        img = img / 255\n",
        "        prediction = rec_model.predict_classes(img)\n",
        "        licPlate.append(prediction[0])\n",
        "    if(len(licPlate) == 6):\n",
        "        licPlate.insert(2,'TN')\n",
        "        #print(licPlate)\n",
        "        License = ''.join(map(str, licPlate))\n",
        "    else:\n",
        "        licPlate.insert(3, 'TN')\n",
        "        #print(licPlate)\n",
        "        License = ''.join(map(str, licPlate))\n",
        "\n",
        "    return License"
      ],
      "execution_count": 236,
      "outputs": []
    },
    {
      "cell_type": "code",
      "metadata": {
        "id": "G3aBsPYrjsQ5",
        "colab_type": "code",
        "colab": {
          "base_uri": "https://localhost:8080/",
          "height": 34
        },
        "outputId": "19904e50-e59e-4a0b-bdbf-b959ccf4632c"
      },
      "source": [
        "print(recognize(pl))"
      ],
      "execution_count": 212,
      "outputs": [
        {
          "output_type": "stream",
          "text": [
            "13TN6326\n"
          ],
          "name": "stdout"
        }
      ]
    },
    {
      "cell_type": "code",
      "metadata": {
        "id": "CVFq84R2Ngjm",
        "colab_type": "code",
        "colab": {}
      },
      "source": [
        ""
      ],
      "execution_count": null,
      "outputs": []
    }
  ]
}