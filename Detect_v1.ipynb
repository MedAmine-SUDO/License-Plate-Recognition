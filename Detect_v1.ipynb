{
  "nbformat": 4,
  "nbformat_minor": 0,
  "metadata": {
    "colab": {
      "name": "Detect_v1.ipynb",
      "provenance": [],
      "collapsed_sections": []
    },
    "kernelspec": {
      "name": "python3",
      "display_name": "Python 3"
    }
  },
  "cells": [
    {
      "cell_type": "code",
      "metadata": {
        "id": "XRt66xzKEVtw",
        "colab_type": "code",
        "colab": {}
      },
      "source": [
        "from os import listdir\n",
        "import numpy as np\n",
        "from numpy import expand_dims\n",
        "from mrcnn.config import Config\n",
        "from mrcnn.model import MaskRCNN\n",
        "from mrcnn.model import mold_image\n",
        "from matplotlib import pyplot\n",
        "from matplotlib.patches import Rectangle\n",
        "from PIL import Image\n",
        "import cv2\n",
        "import math\n",
        "from scipy import ndimage\n",
        "from keras.models import load_model"
      ],
      "execution_count": 0,
      "outputs": []
    },
    {
      "cell_type": "code",
      "metadata": {
        "id": "rqCdawvmFbwP",
        "colab_type": "code",
        "colab": {}
      },
      "source": [
        "SUBMISSION_IMAGES = \"./SubmissionImages\""
      ],
      "execution_count": 0,
      "outputs": []
    },
    {
      "cell_type": "code",
      "metadata": {
        "id": "E30XS85_Eihz",
        "colab_type": "code",
        "colab": {}
      },
      "source": [
        "# define a configuration for the model\n",
        "class LicensePlateConfig(Config):\n",
        "\t# define the name of the configuration\n",
        "\tNAME = \"LicensePlate_cfg\"\n",
        "\t# number of classes (background + kangaroo)\n",
        "\tNUM_CLASSES = 1 + 1\n",
        "\t# number of training steps per epoch\n",
        "\tSTEPS_PER_EPOCH = 131\n",
        "\t# simplify GPU config\n",
        "\tGPU_COUNT = 1\n",
        "\tIMAGES_PER_GPU = 1"
      ],
      "execution_count": 0,
      "outputs": []
    },
    {
      "cell_type": "code",
      "metadata": {
        "id": "ppktEaVVE86T",
        "colab_type": "code",
        "colab": {}
      },
      "source": [
        "# prepare config\n",
        "config = LicensePlateConfig()"
      ],
      "execution_count": 0,
      "outputs": []
    },
    {
      "cell_type": "code",
      "metadata": {
        "id": "lFV1IWSiE-l0",
        "colab_type": "code",
        "colab": {}
      },
      "source": [
        "# define the model\n",
        "model = MaskRCNN(mode='inference', model_dir='./', config=config)"
      ],
      "execution_count": 0,
      "outputs": []
    },
    {
      "cell_type": "code",
      "metadata": {
        "id": "GGTYucizE_52",
        "colab_type": "code",
        "colab": {}
      },
      "source": [
        "model.load_weights(\"/content/drive/My Drive/LicensePlateProject/licenseplate_cfg20200509T2207/mask_rcnn_licenseplate_cfg_0031.h5\", by_name=True)"
      ],
      "execution_count": 0,
      "outputs": []
    },
    {
      "cell_type": "code",
      "metadata": {
        "id": "Oh5_DSvBFF-M",
        "colab_type": "code",
        "colab": {}
      },
      "source": [
        "#Detect plate on submission images\n",
        "imagesToPredict = [image for image in listdir(SUBMISSION_IMAGES)]\n",
        "#show prediction for 30 images\n",
        "for i in range(len(imagesToPredict)-200):\n",
        "    pyplot.figure(figsize=(15,20))\n",
        "    # load the image \n",
        "    image = pyplot.imread(SUBMISSION_IMAGES+\"/\"+imagesToPredict[i])\n",
        "    # convert pixel values (e.g. center)\n",
        "    scaled_image = mold_image(image, config)\n",
        "    # convert image into one sample\n",
        "    sample = expand_dims(scaled_image, 0)\n",
        "    # make prediction\n",
        "    yhat = model.detect(sample, verbose=0)[0]\n",
        "    # define subplot\n",
        "    #pyplot.subplot(len(imagesToPredict), 2, i*2+1)\n",
        "    # plot raw pixel data\n",
        "    pyplot.imshow(image)\n",
        "    pyplot.title('Predicted')\n",
        "    ax = pyplot.gca()\n",
        "    # plot each box\n",
        "    for box in yhat['rois']:\n",
        "        # get coordinates\n",
        "        y1, x1, y2, x2 = box\n",
        "        # calculate width and height of the box\n",
        "        width, height = x2 - x1, y2 - y1\n",
        "        # create the shape\n",
        "        rect = Rectangle((x1, y1), width, height, fill=False, color='red')\n",
        "        # draw the box\n",
        "        ax.add_patch(rect)\n",
        "\t# show the figure\n",
        "    pyplot.show()\n",
        "    pyplot.savefig(\"pred\"+str(i)+\".jpeg\")"
      ],
      "execution_count": 0,
      "outputs": []
    },
    {
      "cell_type": "code",
      "metadata": {
        "id": "hilFRjgA0Vyg",
        "colab_type": "code",
        "colab": {}
      },
      "source": [
        "#Read image\n",
        "image = pyplot.imread(\"/content/drive/My Drive/LicensePlateProject/SubmissionImages/1000.jpg\")\n",
        "# convert pixel values (e.g. center)\n",
        "scaled_image = mold_image(image, config)\n",
        "# convert image into one sample\n",
        "sample = expand_dims(scaled_image, 0)\n",
        "# make prediction\n",
        "yhat = model.detect(sample, verbose=0)[0]"
      ],
      "execution_count": 0,
      "outputs": []
    },
    {
      "cell_type": "code",
      "metadata": {
        "id": "N2tCEsWf0hjV",
        "colab_type": "code",
        "colab": {}
      },
      "source": [
        "def firstCrop(img, predictions):\n",
        "    firstCrop = []\n",
        "    for box in predictions['rois']:\n",
        "        # get coordinates\n",
        "        y1, x1, y2, x2 = box\n",
        "        # calculate width and height of the box\n",
        "        width, height = x2 - x1, y2 - y1\n",
        "        if width < height:\n",
        "            continue\n",
        "        # create the shape\n",
        "        rect = Rectangle((x1, y1), width, height, fill=False, color='red')\n",
        "        xtop = x1\n",
        "        ytop = y1\n",
        "        xbottom = x2\n",
        "        ybottom = y2\n",
        "        firstCrop.append(img[ytop:ybottom, xtop:xbottom])\n",
        "        cv2.rectangle(img,(xtop,ytop),(xbottom,ybottom),(0,255,0),0)\n",
        "    return firstCrop"
      ],
      "execution_count": 0,
      "outputs": []
    },
    {
      "cell_type": "code",
      "metadata": {
        "id": "1l5ifxtE1f9M",
        "colab_type": "code",
        "colab": {}
      },
      "source": [
        "l = firstCrop(image, yhat)\n",
        "\n",
        "pyplot.figure(figsize=(15,20))\n",
        "pyplot.imshow(l[0])\n",
        "pyplot.show()"
      ],
      "execution_count": 0,
      "outputs": []
    },
    {
      "cell_type": "code",
      "metadata": {
        "id": "9sNu-Itm2h8X",
        "colab_type": "code",
        "colab": {}
      },
      "source": [
        "def secondCrop(img):\n",
        "    gray=cv2.cvtColor(img,cv2.COLOR_BGR2GRAY)\n",
        "    ret,thresh = cv2.threshold(gray,127,255,0)\n",
        "    contours,_ = cv2.findContours(thresh,cv2.RETR_LIST,cv2.CHAIN_APPROX_SIMPLE)\n",
        "    areas = [cv2.contourArea(c) for c in contours]\n",
        "    if(len(areas)!=0):\n",
        "        max_index = np.argmax(areas)\n",
        "        cnt=contours[max_index]\n",
        "        x,y,w,h = cv2.boundingRect(cnt)\n",
        "        bounds = cv2.boundingRect(cnt)\n",
        "        cv2.rectangle(img,(x,y),(x+w,y+h),(0,255,0),0)\n",
        "        secondCrop = img[y:y+h,x:x+w]\n",
        "    else:\n",
        "        secondCrop = img\n",
        "    return secondCrop"
      ],
      "execution_count": 0,
      "outputs": []
    },
    {
      "cell_type": "code",
      "metadata": {
        "id": "l8tRfQt-4Isa",
        "colab_type": "code",
        "colab": {}
      },
      "source": [
        "\n",
        "a = secondCrop(l[0])\n",
        "pyplot.imshow(a)\n",
        "\n",
        "cv2.imwrite(\"crop.jpg\",a)"
      ],
      "execution_count": 0,
      "outputs": []
    },
    {
      "cell_type": "code",
      "metadata": {
        "id": "pS3lf2gG-k37",
        "colab_type": "code",
        "colab": {}
      },
      "source": [
        "im = cv2.imread(\"/content/drive/My Drive/LicensePlateProject/crop.jpg\", cv2.IMREAD_GRAYSCALE)\n",
        "(_, gray) = cv2.threshold(im, 128, 255, cv2.THRESH_BINARY | cv2.THRESH_OTSU)\n",
        "gray = 255 - gray\n",
        "ctrs,_ = cv2.findContours(gray.copy(), cv2.RETR_LIST, cv2.CHAIN_APPROX_SIMPLE)\n",
        "rects = [cv2.boundingRect(ctr) for ctr in ctrs]\n",
        "j=0\n",
        "digits = []\n",
        "for rect in rects:\n",
        "    x = rect[0]\n",
        "    y = rect[1]\n",
        "    w = rect[2]\n",
        "    h = rect[3]\n",
        "    crop_im = im[y:y+h, x:x+w]\n",
        "    if w > h:\n",
        "        continue\n",
        "    if h < 15 or h < 30:\n",
        "        continue\n",
        "    digits.append(crop_im)\n",
        "    pyplot.figure(figsize=(3,3))\n",
        "    pyplot.imshow(crop_im)\n",
        "    pyplot.show()\n"
      ],
      "execution_count": 0,
      "outputs": []
    },
    {
      "cell_type": "code",
      "metadata": {
        "id": "qED9thfYETOS",
        "colab_type": "code",
        "colab": {}
      },
      "source": [
        "i = 0\n",
        "for im in digits:\n",
        "    cv2.imwrite(\"seg_\"+str(i)+\".jpg\", im)\n",
        "    i += 1"
      ],
      "execution_count": 0,
      "outputs": []
    },
    {
      "cell_type": "code",
      "metadata": {
        "id": "ET2ZATPKAnzB",
        "colab_type": "code",
        "colab": {}
      },
      "source": [
        "def getBestShift(img):\n",
        "    cy,cx = ndimage.measurements.center_of_mass(img)\n",
        "\n",
        "    rows,cols = img.shape\n",
        "    shiftx = np.round(cols/2.0-cx).astype(int)\n",
        "    shifty = np.round(rows/2.0-cy).astype(int)\n",
        "\n",
        "    return shiftx,shifty\n",
        "\n",
        "def shift(img,sx,sy):\n",
        "    rows,cols = img.shape\n",
        "    M = np.float32([[1,0,sx],[0,1,sy]])\n",
        "    shifted = cv2.warpAffine(img,M,(cols,rows))\n",
        "    return shifted\n",
        "\n",
        "i = 0\n",
        "for im in listdir('./PlateDigits/'):\n",
        "    gray = cv2.imread('./PlateDigits/'+im, cv2.IMREAD_GRAYSCALE)\n",
        "    gray = cv2.resize(gray, (28, 28))  # 255-gray for inverting black and white\n",
        "    (thresh, gray) = cv2.threshold(gray, 128, 255, cv2.THRESH_BINARY | cv2.THRESH_OTSU)\n",
        "    flatten = gray.flatten() / 255.0\n",
        "\n",
        "    while np.sum(gray[0]) == 0:\n",
        "        gray = gray[1:]\n",
        "\n",
        "    while np.sum(gray[:,0]) == 0:\n",
        "        gray = np.delete(gray,0,1)\n",
        "\n",
        "    while np.sum(gray[-1]) == 0:\n",
        "        gray = gray[:-1]\n",
        "\n",
        "    while np.sum(gray[:,-1]) == 0:\n",
        "        gray = np.delete(gray,-1,1)\n",
        "\n",
        "    rows,cols = gray.shape\n",
        "    if rows > cols:\n",
        "        factor = 20.0/rows\n",
        "        rows = 20\n",
        "        cols = int(round(cols*factor))\n",
        "        gray = cv2.resize(gray, (cols,rows))\n",
        "    else:\n",
        "        factor = 20.0/cols\n",
        "        cols = 20\n",
        "        rows = int(round(rows*factor))\n",
        "        gray = cv2.resize(gray, (cols, rows))\n",
        "\n",
        "    colsPadding = (int(math.ceil((28-cols)/2.0)),int(math.floor((28-cols)/2.0)))\n",
        "    rowsPadding = (int(math.ceil((28-rows)/2.0)),int(math.floor((28-rows)/2.0)))\n",
        "    gray = np.lib.pad(gray,(rowsPadding,colsPadding),'constant')\n",
        "\n",
        "    shiftx,shifty = getBestShift(gray)\n",
        "    shifted = shift(gray,shiftx,shifty)\n",
        "    gray = shifted\n",
        "    pyplot.imshow(gray)\n",
        "    cv2.imwrite(\"prepro_\"+str(i)+\".jpg\", gray)\n",
        "    i = i + 1"
      ],
      "execution_count": 0,
      "outputs": []
    },
    {
      "cell_type": "code",
      "metadata": {
        "id": "hqR9dDh-DZrP",
        "colab_type": "code",
        "colab": {}
      },
      "source": [
        "model = load_model('./model_02.h5')"
      ],
      "execution_count": 0,
      "outputs": []
    },
    {
      "cell_type": "code",
      "metadata": {
        "id": "PTB2hWaIFZTv",
        "colab_type": "code",
        "colab": {}
      },
      "source": [
        "result = []\n",
        "s = '-'\n",
        "for im in listdir('./Prepro/'):\n",
        "    gray = cv2.imread('./Prepro/'+im, cv2.IMREAD_GRAYSCALE)\n",
        "    img = gray.reshape(1,1,28,28).astype('float32')\n",
        "    img = img / 255\n",
        "    prediction = model.predict_classes(img)\n",
        "    result.append(str(prediction[0]))\n",
        "print(s.join(result))"
      ],
      "execution_count": 0,
      "outputs": []
    }
  ]
}