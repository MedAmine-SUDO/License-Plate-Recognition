{
  "nbformat": 4,
  "nbformat_minor": 0,
  "metadata": {
    "colab": {
      "name": "Training_v3.ipynb",
      "provenance": [],
      "collapsed_sections": []
    },
    "kernelspec": {
      "name": "python3",
      "display_name": "Python 3"
    },
    "accelerator": "GPU"
  },
  "cells": [
    {
      "cell_type": "code",
      "metadata": {
        "id": "0L3tUO7Bi4Tf",
        "colab_type": "code",
        "colab": {}
      },
      "source": [
        "from os import listdir\n",
        "from xml.etree import ElementTree\n",
        "from numpy import zeros\n",
        "from numpy import asarray\n",
        "from mrcnn.utils import Dataset\n",
        "from mrcnn.config import Config\n",
        "from mrcnn.model import MaskRCNN"
      ],
      "execution_count": 0,
      "outputs": []
    },
    {
      "cell_type": "code",
      "metadata": {
        "id": "3h5tA0ujjAU4",
        "colab_type": "code",
        "colab": {}
      },
      "source": [
        "PATH_TO_ANNOT = \"/content/drive/My Drive/LicensePlateProject/license_plates_detection_train/annots\""
      ],
      "execution_count": 0,
      "outputs": []
    },
    {
      "cell_type": "code",
      "metadata": {
        "id": "QIo9rfuqjFkW",
        "colab_type": "code",
        "colab": {}
      },
      "source": [
        "class licensePateDataset(Dataset):\n",
        "\t# load the dataset definitions\n",
        "\tdef load_dataset(self, dataset_dir, is_train=True):\n",
        "\t\t# define one class\n",
        "\t\tself.add_class(\"dataset\", 1, \"licencePlate\")\n",
        "\t\t# define data locations\n",
        "\t\timages_dir = dataset_dir + '/images/'\n",
        "\t\tannotations_dir = dataset_dir + '/annots/'\n",
        "\t\t# find all images\n",
        "\t\tfor filename in listdir(images_dir):\n",
        "\t\t\t# extract image id\n",
        "\t\t\timage_id = filename[:-4]\n",
        "\t\t\t# skip all images after 800 if we are building the train set\n",
        "\t\t\tif is_train and int(image_id) >= 720:\n",
        "\t\t\t\tcontinue\n",
        "\t\t\t# skip all images before 800 if we are building the validation set\n",
        "\t\t\tif not is_train and int(image_id) < 720:\n",
        "\t\t\t\tcontinue\n",
        "\t\t\timg_path = images_dir + filename\n",
        "\t\t\tann_path = annotations_dir + image_id + '.xml'\n",
        "\t\t\t# add to dataset\n",
        "\t\t\tself.add_image('dataset', image_id=image_id, path=img_path, annotation=ann_path)\n",
        " \n",
        "\t# extract bounding boxes from an annotation file\n",
        "\tdef extract_boxes(self, filename):\n",
        "         tree = ElementTree.parse(filename)\n",
        "        # get the root of the document\n",
        "         root = tree.getroot()\n",
        "        # extract each bounding box\n",
        "         boxes = list()\n",
        "         for box in root.findall('.//bndbox'):\n",
        "             xmin = int(box.find('xmin').text)\n",
        "             ymin = int(box.find('ymin').text)\n",
        "             xmax = int(box.find('xmax').text)\n",
        "             ymax = int(box.find('ymax').text)\n",
        "             coors = [xmin, ymin, xmax, ymax]\n",
        "             boxes.append(coors)\n",
        "        # extract image dimensions\n",
        "         width = int(root.find('.//size/width').text)\n",
        "         height = int(root.find('.//size/height').text)\n",
        "         return boxes, width, height\n",
        " \n",
        "\t# load the masks for an image\n",
        "\tdef load_mask(self, image_id):\n",
        "\t\t# get details of image\n",
        "\t\tinfo = self.image_info[image_id]\n",
        "\t\t# define box file location\n",
        "\t\tpath = info['annotation']\n",
        "\t\t# load XML\n",
        "\t\tboxes, w, h = self.extract_boxes(path)\n",
        "\t\t# create one array for all masks, each on a different channel\n",
        "\t\tmasks = zeros([h, w, len(boxes)], dtype='uint8')\n",
        "\t\t# create masks\n",
        "\t\tclass_ids = list()\n",
        "\t\tfor i in range(len(boxes)):\n",
        "\t\t\tbox = boxes[i]\n",
        "\t\t\trow_s, row_e = box[1], box[3]\n",
        "\t\t\tcol_s, col_e = box[0], box[2]\n",
        "\t\t\tmasks[row_s:row_e, col_s:col_e, i] = 1\n",
        "\t\t\tclass_ids.append(self.class_names.index('licencePlate'))\n",
        "\t\treturn masks, asarray(class_ids, dtype='int32')\n",
        " \n",
        "\t# load an image reference\n",
        "\tdef image_reference(self, image_id):\n",
        "\t\tinfo = self.image_info[image_id]\n",
        "\t\treturn info['path']"
      ],
      "execution_count": 0,
      "outputs": []
    },
    {
      "cell_type": "code",
      "metadata": {
        "id": "ubTAD8OJnNaR",
        "colab_type": "code",
        "colab": {}
      },
      "source": [
        "# define a configuration for the model\n",
        "class LicensePlateConfig(Config):\n",
        "\t# define the name of the configuration\n",
        "\tNAME = \"LicensePlate_cfg\"\n",
        "\t# number of classes (background + License Plate)\n",
        "\tNUM_CLASSES = 1 + 1\n",
        "\t# number of training steps per epoch\n",
        "\tSTEPS_PER_EPOCH = 131\n",
        "\t# simplify GPU config\n",
        "\tGPU_COUNT = 1\n",
        "\tIMAGES_PER_GPU = 1"
      ],
      "execution_count": 0,
      "outputs": []
    },
    {
      "cell_type": "code",
      "metadata": {
        "id": "Sz7w5EQljQPL",
        "colab_type": "code",
        "outputId": "c0292914-4f80-43e0-f688-e80064e6277c",
        "colab": {
          "base_uri": "https://localhost:8080/",
          "height": 53
        }
      },
      "source": [
        "# train set\n",
        "train_set = licensePateDataset()\n",
        "train_set.load_dataset('/content/drive/My Drive/LicensePlateProject/license_plates_detection_train', is_train=True)\n",
        "train_set.prepare()\n",
        "print('Train: %d' % len(train_set.image_ids))\n",
        " \n",
        "# test/val set\n",
        "test_set = licensePateDataset()\n",
        "test_set.load_dataset('/content/drive/My Drive/LicensePlateProject/license_plates_detection_train', is_train=False)\n",
        "test_set.prepare()\n",
        "print('Test: %d' % len(test_set.image_ids))"
      ],
      "execution_count": 0,
      "outputs": [
        {
          "output_type": "stream",
          "text": [
            "Train: 719\n",
            "Test: 181\n"
          ],
          "name": "stdout"
        }
      ]
    },
    {
      "cell_type": "code",
      "metadata": {
        "id": "J_AnDCOQnT2U",
        "colab_type": "code",
        "colab": {}
      },
      "source": [
        "# prepare config\n",
        "config = LicensePlateConfig()"
      ],
      "execution_count": 0,
      "outputs": []
    },
    {
      "cell_type": "code",
      "metadata": {
        "id": "cTWpoznancZw",
        "colab_type": "code",
        "colab": {}
      },
      "source": [
        "# define the model\n",
        "model = MaskRCNN(mode='training', model_dir='/content/drive/My Drive/LicensePlateProject', config=config)"
      ],
      "execution_count": 0,
      "outputs": []
    },
    {
      "cell_type": "code",
      "metadata": {
        "id": "XzLd9QFaTEUc",
        "colab_type": "code",
        "colab": {}
      },
      "source": [
        "model.load_weights('/content/drive/My Drive/LicensePlateProject/mask_rcnn_coco.h5', by_name=True, exclude=[\"mrcnn_class_logits\", \"mrcnn_bbox_fc\",  \"mrcnn_bbox\", \"mrcnn_mask\"])"
      ],
      "execution_count": 0,
      "outputs": []
    },
    {
      "cell_type": "code",
      "metadata": {
        "id": "5pA5bUufTine",
        "colab_type": "code",
        "colab": {}
      },
      "source": [
        "model.train(train_set, test_set, learning_rate=config.LEARNING_RATE, epochs=32, layers='heads')"
      ],
      "execution_count": 0,
      "outputs": []
    }
  ]
}